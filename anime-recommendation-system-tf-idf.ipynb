{
 "cells": [
  {
   "cell_type": "markdown",
   "id": "8af3fee4",
   "metadata": {
    "papermill": {
     "duration": 0.005734,
     "end_time": "2024-10-04T04:44:07.053021",
     "exception": false,
     "start_time": "2024-10-04T04:44:07.047287",
     "status": "completed"
    },
    "tags": []
   },
   "source": [
    "This notebook includes the official implementation of the paper [**Anime Recommendation System Using Bert and Cosine Similarity**](https://doi.org/10.1109/AiDAS60501.2023.10284693) (AiDAS 2023)."
   ]
  },
  {
   "cell_type": "code",
   "execution_count": 1,
   "id": "9add7ede",
   "metadata": {
    "execution": {
     "iopub.execute_input": "2024-10-04T04:44:07.064930Z",
     "iopub.status.busy": "2024-10-04T04:44:07.064418Z",
     "iopub.status.idle": "2024-10-04T04:44:08.402201Z",
     "shell.execute_reply": "2024-10-04T04:44:08.400692Z"
    },
    "papermill": {
     "duration": 1.347859,
     "end_time": "2024-10-04T04:44:08.405619",
     "exception": false,
     "start_time": "2024-10-04T04:44:07.057760",
     "status": "completed"
    },
    "tags": []
   },
   "outputs": [],
   "source": [
    "# Import Libraries\n",
    "import numpy as np\n",
    "import pandas as pd\n",
    "from sklearn.feature_extraction import text\n",
    "from sklearn.metrics.pairwise import cosine_similarity\n",
    "import re\n",
    "import string\n",
    "from tabulate import tabulate"
   ]
  },
  {
   "cell_type": "code",
   "execution_count": 2,
   "id": "db9f7a66",
   "metadata": {
    "execution": {
     "iopub.execute_input": "2024-10-04T04:44:08.416926Z",
     "iopub.status.busy": "2024-10-04T04:44:08.415959Z",
     "iopub.status.idle": "2024-10-04T04:44:08.752055Z",
     "shell.execute_reply": "2024-10-04T04:44:08.750394Z"
    },
    "papermill": {
     "duration": 0.345168,
     "end_time": "2024-10-04T04:44:08.755273",
     "exception": false,
     "start_time": "2024-10-04T04:44:08.410105",
     "status": "completed"
    },
    "tags": []
   },
   "outputs": [
    {
     "data": {
      "text/plain": [
       "17562"
      ]
     },
     "execution_count": 2,
     "metadata": {},
     "output_type": "execute_result"
    }
   ],
   "source": [
    "# Import Data\n",
    "data = pd.read_csv('/kaggle/input/anime-recommendation-database-2020/anime.csv')\n",
    "data = data[['MAL_ID','Name', 'Genres', 'Type', 'Episodes']]\n",
    "data.columns = ['ID','Title', 'Genre', 'Type', 'Episodes']\n",
    "len(data)"
   ]
  },
  {
   "cell_type": "code",
   "execution_count": 3,
   "id": "34146cc1",
   "metadata": {
    "execution": {
     "iopub.execute_input": "2024-10-04T04:44:08.767384Z",
     "iopub.status.busy": "2024-10-04T04:44:08.766952Z",
     "iopub.status.idle": "2024-10-04T04:44:08.812024Z",
     "shell.execute_reply": "2024-10-04T04:44:08.810162Z"
    },
    "papermill": {
     "duration": 0.054814,
     "end_time": "2024-10-04T04:44:08.815169",
     "exception": false,
     "start_time": "2024-10-04T04:44:08.760355",
     "status": "completed"
    },
    "tags": []
   },
   "outputs": [
    {
     "name": "stdout",
     "output_type": "stream",
     "text": [
      "ID          0\n",
      "Title       0\n",
      "Genre       0\n",
      "Type        0\n",
      "Episodes    0\n",
      "dtype: int64\n",
      "ID          0\n",
      "Title       0\n",
      "Genre       0\n",
      "Type        0\n",
      "Episodes    0\n",
      "dtype: int64\n",
      "17562\n"
     ]
    }
   ],
   "source": [
    "# Data Cleaning\n",
    "# Remove Missing Value Data\n",
    "print(data.isnull().sum())\n",
    "data = data.dropna()\n",
    "print(data.isnull().sum())\n",
    "print(len(data))"
   ]
  },
  {
   "cell_type": "code",
   "execution_count": 4,
   "id": "12f1fdff",
   "metadata": {
    "execution": {
     "iopub.execute_input": "2024-10-04T04:44:08.827411Z",
     "iopub.status.busy": "2024-10-04T04:44:08.826936Z",
     "iopub.status.idle": "2024-10-04T04:44:09.651352Z",
     "shell.execute_reply": "2024-10-04T04:44:09.649987Z"
    },
    "papermill": {
     "duration": 0.834433,
     "end_time": "2024-10-04T04:44:09.654661",
     "exception": false,
     "start_time": "2024-10-04T04:44:08.820228",
     "status": "completed"
    },
    "tags": []
   },
   "outputs": [],
   "source": [
    "# Data Preprocessing\n",
    "def clean(text):\n",
    "    text = str(text).lower()\n",
    "    text = re.sub('\\[.*?\\]', '', text)\n",
    "    text = re.sub('https?://\\S+|www\\.\\S+', '', text)\n",
    "    text = re.sub('<.*?>+', '', text)\n",
    "    text = re.sub('[%s]' % re.escape(string.punctuation), '', text)\n",
    "    text = re.sub('\\n', '', text)\n",
    "    text = re.sub('\\w*\\d\\w*', '', text)\n",
    "    return text\n",
    "\n",
    "data[\"cleaned_Title\"] = data[\"Title\"].apply(clean)\n",
    "data[\"cleaned_Genre\"] = data[\"Genre\"].apply(clean)\n",
    "data[\"cleaned_TitleGenre\"] = data[\"cleaned_Title\"] + \" \" + data[\"cleaned_Genre\"]"
   ]
  },
  {
   "cell_type": "code",
   "execution_count": 5,
   "id": "21d0bd8b",
   "metadata": {
    "execution": {
     "iopub.execute_input": "2024-10-04T04:44:09.667215Z",
     "iopub.status.busy": "2024-10-04T04:44:09.666737Z",
     "iopub.status.idle": "2024-10-04T04:44:09.677322Z",
     "shell.execute_reply": "2024-10-04T04:44:09.675889Z"
    },
    "papermill": {
     "duration": 0.020831,
     "end_time": "2024-10-04T04:44:09.680651",
     "exception": false,
     "start_time": "2024-10-04T04:44:09.659820",
     "status": "completed"
    },
    "tags": []
   },
   "outputs": [],
   "source": [
    "indices = pd.Series(data.index,index=data['cleaned_TitleGenre']).drop_duplicates()"
   ]
  },
  {
   "cell_type": "code",
   "execution_count": 6,
   "id": "60a184e4",
   "metadata": {
    "execution": {
     "iopub.execute_input": "2024-10-04T04:44:09.693413Z",
     "iopub.status.busy": "2024-10-04T04:44:09.692929Z",
     "iopub.status.idle": "2024-10-04T04:44:09.703009Z",
     "shell.execute_reply": "2024-10-04T04:44:09.701628Z"
    },
    "papermill": {
     "duration": 0.019974,
     "end_time": "2024-10-04T04:44:09.706039",
     "exception": false,
     "start_time": "2024-10-04T04:44:09.686065",
     "status": "completed"
    },
    "tags": []
   },
   "outputs": [],
   "source": [
    "# Generate Similarity\n",
    "def get_similarity(title):\n",
    "    new_title = False\n",
    "    feature = data[\"cleaned_TitleGenre\"].tolist()\n",
    "    if not(title in feature):\n",
    "        new_title = True\n",
    "        feature.append(title)\n",
    "    tfidf = text.TfidfVectorizer()\n",
    "    tfidf_matrix = tfidf.fit_transform(feature)\n",
    "    similarity = cosine_similarity(tfidf_matrix)\n",
    "    del tfidf\n",
    "    del tfidf_matrix\n",
    "    if (new_title):\n",
    "        del feature\n",
    "        return similarity[len(similarity) - 1]\n",
    "    else:\n",
    "        del feature\n",
    "        index = pd.Series(indices[title])\n",
    "        return similarity[index[0]]"
   ]
  },
  {
   "cell_type": "code",
   "execution_count": 7,
   "id": "fe442ad6",
   "metadata": {
    "execution": {
     "iopub.execute_input": "2024-10-04T04:44:09.719998Z",
     "iopub.status.busy": "2024-10-04T04:44:09.718647Z",
     "iopub.status.idle": "2024-10-04T04:44:09.733390Z",
     "shell.execute_reply": "2024-10-04T04:44:09.731902Z"
    },
    "papermill": {
     "duration": 0.025205,
     "end_time": "2024-10-04T04:44:09.736553",
     "exception": false,
     "start_time": "2024-10-04T04:44:09.711348",
     "status": "completed"
    },
    "tags": []
   },
   "outputs": [],
   "source": [
    "# Generate Recommendation\n",
    "def Anime_Recommendation(ID, title, genre):\n",
    "    cleaned_title = clean(title)\n",
    "    cleaned_genre = clean(genre)\n",
    "    cleaned_TitleGenre = cleaned_title + \" \" + cleaned_genre\n",
    "    similarity = get_similarity(cleaned_TitleGenre)\n",
    "    similarity_scores = list(enumerate(similarity))\n",
    "    similarity_scores = sorted(similarity_scores, key=lambda x: x[1], reverse=True)\n",
    "    similarity_scores = filter(lambda x: x[1] > 0, similarity_scores)\n",
    "    similarity_scores = list(similarity_scores)\n",
    "    movieindices = [i[0] for i in similarity_scores if i[0] < len(data)]\n",
    "    scores = [i[1] for i in similarity_scores if i[0] < len(data)]\n",
    "    result = pd.DataFrame([data.iloc[i] for i in movieindices])\n",
    "    result['Similarity'] = scores\n",
    "    result = result[result[\"ID\"] != ID]\n",
    "    result = result[['Title', 'Similarity']][:10].copy()\n",
    "    result = result.set_index([np.arange(1,11)])\n",
    "    print(\"Title:\", title)\n",
    "    print(\"Genre:\", genre)\n",
    "    print(\"Anime Recommendation:\")\n",
    "    print(tabulate(result, headers='keys', tablefmt = 'psql'))\n",
    "            \n",
    "    del similarity\n",
    "    del similarity_scores\n",
    "    del movieindices\n",
    "    del scores\n",
    "    del result"
   ]
  },
  {
   "cell_type": "code",
   "execution_count": 8,
   "id": "f8ba09d5",
   "metadata": {
    "execution": {
     "iopub.execute_input": "2024-10-04T04:44:09.749324Z",
     "iopub.status.busy": "2024-10-04T04:44:09.748705Z",
     "iopub.status.idle": "2024-10-04T04:44:19.419017Z",
     "shell.execute_reply": "2024-10-04T04:44:19.417164Z"
    },
    "papermill": {
     "duration": 9.680324,
     "end_time": "2024-10-04T04:44:19.422204",
     "exception": false,
     "start_time": "2024-10-04T04:44:09.741880",
     "status": "completed"
    },
    "tags": []
   },
   "outputs": [
    {
     "name": "stdout",
     "output_type": "stream",
     "text": [
      "Title: Naruto\n",
      "Genre: Action, Adventure, Comedy, Super Power, Martial Arts, Shounen\n",
      "Anime Recommendation:\n",
      "+----+----------------------------------------------------------+--------------+\n",
      "|    | Title                                                    |   Similarity |\n",
      "|----+----------------------------------------------------------+--------------|\n",
      "|  1 | Naruto: Shippuuden                                       |     0.834171 |\n",
      "|  2 | Naruto x UT                                              |     0.760086 |\n",
      "|  3 | Boruto: Naruto the Movie                                 |     0.741371 |\n",
      "|  4 | The Last: Naruto the Movie                               |     0.686851 |\n",
      "|  5 | Naruto: Shippuuden Movie 6 - Road to Ninja               |     0.648502 |\n",
      "|  6 | Boruto: Naruto Next Generations                          |     0.640321 |\n",
      "|  7 | Boruto: Naruto the Movie - Naruto ga Hokage ni Natta Hi  |     0.630476 |\n",
      "|  8 | Naruto: Honoo no Chuunin Shiken! Naruto vs. Konohamaru!! |     0.626463 |\n",
      "|  9 | Naruto: Shippuuden Movie 5 - Blood Prison                |     0.623292 |\n",
      "| 10 | Dragon Ball Super                                        |     0.616354 |\n",
      "+----+----------------------------------------------------------+--------------+\n"
     ]
    }
   ],
   "source": [
    "def Anime(ID):\n",
    "    anime = data.loc[data[\"ID\"] == ID]\n",
    "    title = anime.Title.item()\n",
    "    genre = anime.Genre.item()\n",
    "    Anime_Recommendation(ID, title, genre)\n",
    "\n",
    "Anime(20)"
   ]
  },
  {
   "cell_type": "code",
   "execution_count": 9,
   "id": "8ec56ceb",
   "metadata": {
    "execution": {
     "iopub.execute_input": "2024-10-04T04:44:19.435850Z",
     "iopub.status.busy": "2024-10-04T04:44:19.434762Z",
     "iopub.status.idle": "2024-10-04T04:44:27.893704Z",
     "shell.execute_reply": "2024-10-04T04:44:27.891955Z"
    },
    "papermill": {
     "duration": 8.469111,
     "end_time": "2024-10-04T04:44:27.896860",
     "exception": false,
     "start_time": "2024-10-04T04:44:19.427749",
     "status": "completed"
    },
    "tags": []
   },
   "outputs": [
    {
     "name": "stdout",
     "output_type": "stream",
     "text": [
      "Title: Boruto: Naruto Next Generations\n",
      "Genre: Action, Adventure, Super Power, Martial Arts, Shounen\n",
      "Anime Recommendation:\n",
      "+----+----------------------------------------------------------+--------------+\n",
      "|    | Title                                                    |   Similarity |\n",
      "|----+----------------------------------------------------------+--------------|\n",
      "|  1 | Boruto: Naruto the Movie                                 |     0.725436 |\n",
      "|  2 | Kamiusagi Rope x Boruto: Naruto Next Generations         |     0.692526 |\n",
      "|  3 | Naruto                                                   |     0.640321 |\n",
      "|  4 | Boruto: Naruto the Movie - Naruto ga Hokage ni Natta Hi  |     0.564011 |\n",
      "|  5 | Naruto: Shippuuden                                       |     0.534137 |\n",
      "|  6 | Boruto: Jump Festa 2016 Special                          |     0.507336 |\n",
      "|  7 | Naruto x UT                                              |     0.486056 |\n",
      "|  8 | The Last: Naruto the Movie                               |     0.451581 |\n",
      "|  9 | Naruto: Shippuuden Movie 6 - Road to Ninja               |     0.426368 |\n",
      "| 10 | Naruto: Honoo no Chuunin Shiken! Naruto vs. Konohamaru!! |     0.411878 |\n",
      "+----+----------------------------------------------------------+--------------+\n"
     ]
    }
   ],
   "source": [
    "Anime(34566)"
   ]
  },
  {
   "cell_type": "code",
   "execution_count": 10,
   "id": "f9730841",
   "metadata": {
    "execution": {
     "iopub.execute_input": "2024-10-04T04:44:27.909967Z",
     "iopub.status.busy": "2024-10-04T04:44:27.909470Z",
     "iopub.status.idle": "2024-10-04T04:44:37.271800Z",
     "shell.execute_reply": "2024-10-04T04:44:37.270105Z"
    },
    "papermill": {
     "duration": 9.373726,
     "end_time": "2024-10-04T04:44:37.276200",
     "exception": false,
     "start_time": "2024-10-04T04:44:27.902474",
     "status": "completed"
    },
    "tags": []
   },
   "outputs": [
    {
     "name": "stdout",
     "output_type": "stream",
     "text": [
      "Title: Dragon Ball Super\n",
      "Genre: Action, Adventure, Comedy, Super Power, Martial Arts, Fantasy, Shounen\n",
      "Anime Recommendation:\n",
      "+----+-----------------------------------------+--------------+\n",
      "|    | Title                                   |   Similarity |\n",
      "|----+-----------------------------------------+--------------|\n",
      "|  1 | Dragon Ball Z                           |     0.967744 |\n",
      "|  2 | Dragon Ball                             |     0.955145 |\n",
      "|  3 | Super Dragon Ball Heroes                |     0.874004 |\n",
      "|  4 | Dragon Ball Kai                         |     0.857206 |\n",
      "|  5 | Dragon Ball Kai (2014)                  |     0.857206 |\n",
      "|  6 | Dragon Ball Super Movie: Broly          |     0.826302 |\n",
      "|  7 | Dragon Ball Z Movie 15: Fukkatsu no \"F\" |     0.800821 |\n",
      "|  8 | Dragon Ball Specials                    |     0.781349 |\n",
      "|  9 | Dragon Ball: Episode of Bardock         |     0.723416 |\n",
      "| 10 | Dragon Ball Z: Summer Vacation Special  |     0.71557  |\n",
      "+----+-----------------------------------------+--------------+\n"
     ]
    }
   ],
   "source": [
    "Anime(30694)"
   ]
  },
  {
   "cell_type": "markdown",
   "id": "294d1b46",
   "metadata": {
    "papermill": {
     "duration": 0.005585,
     "end_time": "2024-10-04T04:44:37.288030",
     "exception": false,
     "start_time": "2024-10-04T04:44:37.282445",
     "status": "completed"
    },
    "tags": []
   },
   "source": [
    "If you found our implementation useful, please consider citing our paper:\n",
    "\n",
    "C. G. Reswara, J. Nicolas, M. Ananta and F. I. Kurniadi, \"Anime Recommendation System Using Bert and Cosine Similarity,\" 2023 4th International Conference on Artificial Intelligence and Data Sciences (AiDAS), IPOH, Malaysia, 2023, pp. 109-113, doi: [10.1109/AiDAS60501.2023.10284693](https://doi.org/10.1109/AiDAS60501.2023.10284693)."
   ]
  }
 ],
 "metadata": {
  "kaggle": {
   "accelerator": "none",
   "dataSources": [
    {
     "datasetId": 1225408,
     "sourceId": 2422513,
     "sourceType": "datasetVersion"
    }
   ],
   "dockerImageVersionId": 30407,
   "isGpuEnabled": false,
   "isInternetEnabled": true,
   "language": "python",
   "sourceType": "notebook"
  },
  "kernelspec": {
   "display_name": "Python 3",
   "language": "python",
   "name": "python3"
  },
  "language_info": {
   "codemirror_mode": {
    "name": "ipython",
    "version": 3
   },
   "file_extension": ".py",
   "mimetype": "text/x-python",
   "name": "python",
   "nbconvert_exporter": "python",
   "pygments_lexer": "ipython3",
   "version": "3.7.12"
  },
  "papermill": {
   "default_parameters": {},
   "duration": 45.626861,
   "end_time": "2024-10-04T04:44:38.120446",
   "environment_variables": {},
   "exception": null,
   "input_path": "__notebook__.ipynb",
   "output_path": "__notebook__.ipynb",
   "parameters": {},
   "start_time": "2024-10-04T04:43:52.493585",
   "version": "2.4.0"
  }
 },
 "nbformat": 4,
 "nbformat_minor": 5
}
