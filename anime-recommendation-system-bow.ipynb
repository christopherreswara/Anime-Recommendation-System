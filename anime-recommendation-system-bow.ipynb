{
 "cells": [
  {
   "cell_type": "markdown",
   "id": "36382eab",
   "metadata": {
    "papermill": {
     "duration": 0.005381,
     "end_time": "2024-10-04T04:44:54.397054",
     "exception": false,
     "start_time": "2024-10-04T04:44:54.391673",
     "status": "completed"
    },
    "tags": []
   },
   "source": [
    "This notebook includes the official implementation of the paper [**Anime Recommendation System Using Bert and Cosine Similarity**](https://doi.org/10.1109/AiDAS60501.2023.10284693) (AiDAS 2023)."
   ]
  },
  {
   "cell_type": "code",
   "execution_count": 1,
   "id": "45f3b783",
   "metadata": {
    "execution": {
     "iopub.execute_input": "2024-10-04T04:44:54.407645Z",
     "iopub.status.busy": "2024-10-04T04:44:54.406319Z",
     "iopub.status.idle": "2024-10-04T04:44:55.715646Z",
     "shell.execute_reply": "2024-10-04T04:44:55.714402Z"
    },
    "papermill": {
     "duration": 1.318321,
     "end_time": "2024-10-04T04:44:55.719345",
     "exception": false,
     "start_time": "2024-10-04T04:44:54.401024",
     "status": "completed"
    },
    "tags": []
   },
   "outputs": [],
   "source": [
    "# Import Libraries\n",
    "import numpy as np\n",
    "import pandas as pd\n",
    "from sklearn.feature_extraction import text\n",
    "from sklearn.metrics.pairwise import cosine_similarity\n",
    "import re\n",
    "import string\n",
    "from tabulate import tabulate"
   ]
  },
  {
   "cell_type": "code",
   "execution_count": 2,
   "id": "b8feee36",
   "metadata": {
    "execution": {
     "iopub.execute_input": "2024-10-04T04:44:55.733311Z",
     "iopub.status.busy": "2024-10-04T04:44:55.732035Z",
     "iopub.status.idle": "2024-10-04T04:44:56.043187Z",
     "shell.execute_reply": "2024-10-04T04:44:56.041800Z"
    },
    "papermill": {
     "duration": 0.321241,
     "end_time": "2024-10-04T04:44:56.046374",
     "exception": false,
     "start_time": "2024-10-04T04:44:55.725133",
     "status": "completed"
    },
    "tags": []
   },
   "outputs": [
    {
     "data": {
      "text/plain": [
       "17562"
      ]
     },
     "execution_count": 2,
     "metadata": {},
     "output_type": "execute_result"
    }
   ],
   "source": [
    "# Import Data\n",
    "data = pd.read_csv('/kaggle/input/anime-recommendation-database-2020/anime.csv')\n",
    "data = data[['MAL_ID','Name', 'Genres', 'Type', 'Episodes']]\n",
    "data.columns = ['ID','Title', 'Genre', 'Type', 'Episodes']\n",
    "len(data)"
   ]
  },
  {
   "cell_type": "code",
   "execution_count": 3,
   "id": "c3274fc6",
   "metadata": {
    "execution": {
     "iopub.execute_input": "2024-10-04T04:44:56.056921Z",
     "iopub.status.busy": "2024-10-04T04:44:56.055819Z",
     "iopub.status.idle": "2024-10-04T04:44:56.091155Z",
     "shell.execute_reply": "2024-10-04T04:44:56.089549Z"
    },
    "papermill": {
     "duration": 0.044288,
     "end_time": "2024-10-04T04:44:56.094641",
     "exception": false,
     "start_time": "2024-10-04T04:44:56.050353",
     "status": "completed"
    },
    "tags": []
   },
   "outputs": [
    {
     "name": "stdout",
     "output_type": "stream",
     "text": [
      "ID          0\n",
      "Title       0\n",
      "Genre       0\n",
      "Type        0\n",
      "Episodes    0\n",
      "dtype: int64\n",
      "ID          0\n",
      "Title       0\n",
      "Genre       0\n",
      "Type        0\n",
      "Episodes    0\n",
      "dtype: int64\n",
      "17562\n"
     ]
    }
   ],
   "source": [
    "# Data Cleaning\n",
    "# Remove Missing Value Data\n",
    "print(data.isnull().sum())\n",
    "data = data.dropna()\n",
    "print(data.isnull().sum())\n",
    "print(len(data))"
   ]
  },
  {
   "cell_type": "code",
   "execution_count": 4,
   "id": "818f62b4",
   "metadata": {
    "execution": {
     "iopub.execute_input": "2024-10-04T04:44:56.109087Z",
     "iopub.status.busy": "2024-10-04T04:44:56.108068Z",
     "iopub.status.idle": "2024-10-04T04:44:56.635086Z",
     "shell.execute_reply": "2024-10-04T04:44:56.633772Z"
    },
    "papermill": {
     "duration": 0.537683,
     "end_time": "2024-10-04T04:44:56.638358",
     "exception": false,
     "start_time": "2024-10-04T04:44:56.100675",
     "status": "completed"
    },
    "tags": []
   },
   "outputs": [],
   "source": [
    "# Data Preprocessing\n",
    "def clean(text):\n",
    "    text = str(text).lower()\n",
    "    text = re.sub('\\[.*?\\]', '', text)\n",
    "    text = re.sub('https?://\\S+|www\\.\\S+', '', text)\n",
    "    text = re.sub('<.*?>+', '', text)\n",
    "    text = re.sub('[%s]' % re.escape(string.punctuation), '', text)\n",
    "    text = re.sub('\\n', '', text)\n",
    "    text = re.sub('\\w*\\d\\w*', '', text)\n",
    "    return text\n",
    "\n",
    "data[\"cleaned_Title\"] = data[\"Title\"].apply(clean)\n",
    "data[\"cleaned_Genre\"] = data[\"Genre\"].apply(clean)\n",
    "data[\"cleaned_TitleGenre\"] = data[\"cleaned_Title\"] + \" \" + data[\"cleaned_Genre\"]"
   ]
  },
  {
   "cell_type": "code",
   "execution_count": 5,
   "id": "ea0cae0f",
   "metadata": {
    "execution": {
     "iopub.execute_input": "2024-10-04T04:44:56.649110Z",
     "iopub.status.busy": "2024-10-04T04:44:56.648106Z",
     "iopub.status.idle": "2024-10-04T04:44:56.657037Z",
     "shell.execute_reply": "2024-10-04T04:44:56.655830Z"
    },
    "papermill": {
     "duration": 0.016975,
     "end_time": "2024-10-04T04:44:56.659575",
     "exception": false,
     "start_time": "2024-10-04T04:44:56.642600",
     "status": "completed"
    },
    "tags": []
   },
   "outputs": [],
   "source": [
    "indices = pd.Series(data.index,index=data['cleaned_TitleGenre']).drop_duplicates()"
   ]
  },
  {
   "cell_type": "code",
   "execution_count": 6,
   "id": "831bd4aa",
   "metadata": {
    "execution": {
     "iopub.execute_input": "2024-10-04T04:44:56.670044Z",
     "iopub.status.busy": "2024-10-04T04:44:56.669028Z",
     "iopub.status.idle": "2024-10-04T04:44:56.676953Z",
     "shell.execute_reply": "2024-10-04T04:44:56.675703Z"
    },
    "papermill": {
     "duration": 0.01572,
     "end_time": "2024-10-04T04:44:56.679388",
     "exception": false,
     "start_time": "2024-10-04T04:44:56.663668",
     "status": "completed"
    },
    "tags": []
   },
   "outputs": [],
   "source": [
    "# Generate Similarity\n",
    "def get_similarity(title):\n",
    "    new_title = False\n",
    "    feature = data[\"cleaned_TitleGenre\"].tolist()\n",
    "    if not(title in feature):\n",
    "        new_title = True\n",
    "        feature.append(title)\n",
    "    tfidf = text.CountVectorizer()\n",
    "    tfidf_matrix = tfidf.fit_transform(feature)\n",
    "    similarity = cosine_similarity(tfidf_matrix)\n",
    "    del tfidf\n",
    "    del tfidf_matrix\n",
    "    if (new_title):\n",
    "        del feature\n",
    "        return similarity[len(similarity) - 1]\n",
    "    else:\n",
    "        del feature\n",
    "        index = pd.Series(indices[title])\n",
    "        return similarity[index[0]]"
   ]
  },
  {
   "cell_type": "code",
   "execution_count": 7,
   "id": "8b66a612",
   "metadata": {
    "execution": {
     "iopub.execute_input": "2024-10-04T04:44:56.689969Z",
     "iopub.status.busy": "2024-10-04T04:44:56.688855Z",
     "iopub.status.idle": "2024-10-04T04:44:56.699908Z",
     "shell.execute_reply": "2024-10-04T04:44:56.698658Z"
    },
    "papermill": {
     "duration": 0.01914,
     "end_time": "2024-10-04T04:44:56.702590",
     "exception": false,
     "start_time": "2024-10-04T04:44:56.683450",
     "status": "completed"
    },
    "tags": []
   },
   "outputs": [],
   "source": [
    "# Generate Recommendation\n",
    "def Anime_Recommendation(ID, title, genre):\n",
    "    cleaned_title = clean(title)\n",
    "    cleaned_genre = clean(genre)\n",
    "    cleaned_TitleGenre = cleaned_title + \" \" + cleaned_genre\n",
    "    similarity = get_similarity(cleaned_TitleGenre)\n",
    "    similarity_scores = list(enumerate(similarity))\n",
    "    similarity_scores = sorted(similarity_scores, key=lambda x: x[1], reverse=True)\n",
    "    similarity_scores = filter(lambda x: x[1] > 0, similarity_scores)\n",
    "    similarity_scores = list(similarity_scores)\n",
    "    movieindices = [i[0] for i in similarity_scores if i[0] < len(data)]\n",
    "    scores = [i[1] for i in similarity_scores if i[0] < len(data)]\n",
    "    result = pd.DataFrame([data.iloc[i] for i in movieindices])\n",
    "    result['Similarity'] = scores\n",
    "    result = result[result[\"ID\"] != ID]\n",
    "    result = result[['Title', 'Similarity']][:10].copy()\n",
    "    result = result.set_index([np.arange(1,11)])\n",
    "    print(\"Title:\", title)\n",
    "    print(\"Genre:\", genre)\n",
    "    print(\"Anime Recommendation:\")\n",
    "    print(tabulate(result, headers='keys', tablefmt = 'psql'))\n",
    "            \n",
    "    del similarity\n",
    "    del similarity_scores\n",
    "    del movieindices\n",
    "    del scores\n",
    "    del result"
   ]
  },
  {
   "cell_type": "code",
   "execution_count": 8,
   "id": "91dbb1e6",
   "metadata": {
    "execution": {
     "iopub.execute_input": "2024-10-04T04:44:56.712530Z",
     "iopub.status.busy": "2024-10-04T04:44:56.712116Z",
     "iopub.status.idle": "2024-10-04T04:45:05.416088Z",
     "shell.execute_reply": "2024-10-04T04:45:05.414578Z"
    },
    "papermill": {
     "duration": 8.712187,
     "end_time": "2024-10-04T04:45:05.418895",
     "exception": false,
     "start_time": "2024-10-04T04:44:56.706708",
     "status": "completed"
    },
    "tags": []
   },
   "outputs": [
    {
     "name": "stdout",
     "output_type": "stream",
     "text": [
      "Title: Naruto\n",
      "Genre: Action, Adventure, Comedy, Super Power, Martial Arts, Shounen\n",
      "Anime Recommendation:\n",
      "+----+----------------------------------------+--------------+\n",
      "|    | Title                                  |   Similarity |\n",
      "|----+----------------------------------------+--------------|\n",
      "|  1 | Naruto: Shippuuden                     |     0.948683 |\n",
      "|  2 | Naruto x UT                            |     0.888889 |\n",
      "|  3 | Dragon Ball Z                          |     0.80403  |\n",
      "|  4 | Boruto: Naruto the Movie               |     0.80403  |\n",
      "|  5 | Boruto: Naruto Next Generations        |     0.80403  |\n",
      "|  6 | Dragon Ball Super                      |     0.801784 |\n",
      "|  7 | Gatchaman                              |     0.777778 |\n",
      "|  8 | Kyutai Panic Adventure!                |     0.777778 |\n",
      "|  9 | Dragon Ball Kai                        |     0.7698   |\n",
      "| 10 | Naruto: Shippuuden - Sunny Side Battle |     0.7698   |\n",
      "+----+----------------------------------------+--------------+\n"
     ]
    }
   ],
   "source": [
    "def Anime(ID):\n",
    "    anime = data.loc[data[\"ID\"] == ID]\n",
    "    title = anime.Title.item()\n",
    "    genre = anime.Genre.item()\n",
    "    Anime_Recommendation(ID, title, genre)\n",
    "\n",
    "Anime(20)"
   ]
  },
  {
   "cell_type": "code",
   "execution_count": 9,
   "id": "1c2ec6b1",
   "metadata": {
    "execution": {
     "iopub.execute_input": "2024-10-04T04:45:05.429231Z",
     "iopub.status.busy": "2024-10-04T04:45:05.428579Z",
     "iopub.status.idle": "2024-10-04T04:45:13.073176Z",
     "shell.execute_reply": "2024-10-04T04:45:13.071799Z"
    },
    "papermill": {
     "duration": 7.652927,
     "end_time": "2024-10-04T04:45:13.076016",
     "exception": false,
     "start_time": "2024-10-04T04:45:05.423089",
     "status": "completed"
    },
    "tags": []
   },
   "outputs": [
    {
     "name": "stdout",
     "output_type": "stream",
     "text": [
      "Title: Boruto: Naruto Next Generations\n",
      "Genre: Action, Adventure, Super Power, Martial Arts, Shounen\n",
      "Anime Recommendation:\n",
      "+----+--------------------------------------------+--------------+\n",
      "|    | Title                                      |   Similarity |\n",
      "|----+--------------------------------------------+--------------|\n",
      "|  1 | Naruto                                     |     0.80403  |\n",
      "|  2 | Naruto: Shippuuden                         |     0.76277  |\n",
      "|  3 | Boruto: Naruto the Movie                   |     0.727273 |\n",
      "|  4 | Gatchaman                                  |     0.703526 |\n",
      "|  5 | Naruto x UT                                |     0.703526 |\n",
      "|  6 | Kyutai Panic Adventure!                    |     0.703526 |\n",
      "|  7 | Boruto: Jump Festa 2016 Special            |     0.696311 |\n",
      "|  8 | Naruto: Shippuuden Movie 5 - Blood Prison  |     0.668994 |\n",
      "|  9 | Naruto: Shippuuden Movie 6 - Road to Ninja |     0.668994 |\n",
      "| 10 | Rekka no Honoo                             |     0.667424 |\n",
      "+----+--------------------------------------------+--------------+\n"
     ]
    }
   ],
   "source": [
    "Anime(34566)"
   ]
  },
  {
   "cell_type": "code",
   "execution_count": 10,
   "id": "9b0676de",
   "metadata": {
    "execution": {
     "iopub.execute_input": "2024-10-04T04:45:13.086706Z",
     "iopub.status.busy": "2024-10-04T04:45:13.086257Z",
     "iopub.status.idle": "2024-10-04T04:45:21.526965Z",
     "shell.execute_reply": "2024-10-04T04:45:21.525379Z"
    },
    "papermill": {
     "duration": 8.449146,
     "end_time": "2024-10-04T04:45:21.529652",
     "exception": false,
     "start_time": "2024-10-04T04:45:13.080506",
     "status": "completed"
    },
    "tags": []
   },
   "outputs": [
    {
     "name": "stdout",
     "output_type": "stream",
     "text": [
      "Title: Dragon Ball Super\n",
      "Genre: Action, Adventure, Comedy, Super Power, Martial Arts, Fantasy, Shounen\n",
      "Anime Recommendation:\n",
      "+----+-----------------------------------------+--------------+\n",
      "|    | Title                                   |   Similarity |\n",
      "|----+-----------------------------------------+--------------|\n",
      "|  1 | Dragon Ball Z                           |     0.966988 |\n",
      "|  2 | Dragon Ball                             |     0.92967  |\n",
      "|  3 | Super Dragon Ball Heroes                |     0.928571 |\n",
      "|  4 | Dragon Ball Kai                         |     0.92582  |\n",
      "|  5 | Dragon Ball Kai (2014)                  |     0.92582  |\n",
      "|  6 | Dragon Ball Super Movie: Broly          |     0.897085 |\n",
      "|  7 | Dragon Ball Z: Atsumare! Gokuu World    |     0.857143 |\n",
      "|  8 | Dragon Ball Z: Summer Vacation Special  |     0.857143 |\n",
      "|  9 | Dragon Ball Z Movie 15: Fukkatsu no \"F\" |     0.857143 |\n",
      "| 10 | Dragon Ball: Episode of Bardock         |     0.828079 |\n",
      "+----+-----------------------------------------+--------------+\n"
     ]
    }
   ],
   "source": [
    "Anime(30694)"
   ]
  },
  {
   "cell_type": "markdown",
   "id": "ce5023a2",
   "metadata": {
    "papermill": {
     "duration": 0.00393,
     "end_time": "2024-10-04T04:45:21.537912",
     "exception": false,
     "start_time": "2024-10-04T04:45:21.533982",
     "status": "completed"
    },
    "tags": []
   },
   "source": [
    "If you found our implementation useful, please consider citing our paper:\n",
    "\n",
    "C. G. Reswara, J. Nicolas, M. Ananta and F. I. Kurniadi, \"Anime Recommendation System Using Bert and Cosine Similarity,\" 2023 4th International Conference on Artificial Intelligence and Data Sciences (AiDAS), IPOH, Malaysia, 2023, pp. 109-113, doi: [10.1109/AiDAS60501.2023.10284693](https://doi.org/10.1109/AiDAS60501.2023.10284693)."
   ]
  }
 ],
 "metadata": {
  "kaggle": {
   "accelerator": "none",
   "dataSources": [
    {
     "datasetId": 1225408,
     "sourceId": 2422513,
     "sourceType": "datasetVersion"
    }
   ],
   "dockerImageVersionId": 30407,
   "isGpuEnabled": false,
   "isInternetEnabled": true,
   "language": "python",
   "sourceType": "notebook"
  },
  "kernelspec": {
   "display_name": "Python 3",
   "language": "python",
   "name": "python3"
  },
  "language_info": {
   "codemirror_mode": {
    "name": "ipython",
    "version": 3
   },
   "file_extension": ".py",
   "mimetype": "text/x-python",
   "name": "python",
   "nbconvert_exporter": "python",
   "pygments_lexer": "ipython3",
   "version": "3.7.12"
  },
  "papermill": {
   "default_parameters": {},
   "duration": 39.909912,
   "end_time": "2024-10-04T04:45:22.264938",
   "environment_variables": {},
   "exception": null,
   "input_path": "__notebook__.ipynb",
   "output_path": "__notebook__.ipynb",
   "parameters": {},
   "start_time": "2024-10-04T04:44:42.355026",
   "version": "2.4.0"
  }
 },
 "nbformat": 4,
 "nbformat_minor": 5
}
