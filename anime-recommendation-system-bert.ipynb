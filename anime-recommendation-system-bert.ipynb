{
 "cells": [
  {
   "cell_type": "markdown",
   "id": "2331cae4",
   "metadata": {
    "papermill": {
     "duration": 0.004469,
     "end_time": "2024-10-04T06:18:26.863663",
     "exception": false,
     "start_time": "2024-10-04T06:18:26.859194",
     "status": "completed"
    },
    "tags": []
   },
   "source": [
    "This notebook includes the official implementation of the paper [**Anime Recommendation System Using Bert and Cosine Similarity**](https://doi.org/10.1109/AiDAS60501.2023.10284693) (AiDAS 2023)."
   ]
  },
  {
   "cell_type": "code",
   "execution_count": 1,
   "id": "1cba7f41",
   "metadata": {
    "execution": {
     "iopub.execute_input": "2024-10-04T06:18:26.873080Z",
     "iopub.status.busy": "2024-10-04T06:18:26.872164Z",
     "iopub.status.idle": "2024-10-04T06:18:35.331185Z",
     "shell.execute_reply": "2024-10-04T06:18:35.329675Z"
    },
    "papermill": {
     "duration": 8.466782,
     "end_time": "2024-10-04T06:18:35.334065",
     "exception": false,
     "start_time": "2024-10-04T06:18:26.867283",
     "status": "completed"
    },
    "tags": []
   },
   "outputs": [],
   "source": [
    "# Import Libraries\n",
    "import numpy as np\n",
    "import pandas as pd\n",
    "import re\n",
    "import tensorflow as tf\n",
    "import tensorflow_hub as hub\n",
    "import tensorflow_text as text\n",
    "from sklearn.metrics.pairwise import cosine_similarity\n",
    "import string\n",
    "from tabulate import tabulate"
   ]
  },
  {
   "cell_type": "code",
   "execution_count": 2,
   "id": "bf133790",
   "metadata": {
    "execution": {
     "iopub.execute_input": "2024-10-04T06:18:35.343700Z",
     "iopub.status.busy": "2024-10-04T06:18:35.342762Z",
     "iopub.status.idle": "2024-10-04T06:19:00.794426Z",
     "shell.execute_reply": "2024-10-04T06:19:00.793479Z"
    },
    "papermill": {
     "duration": 25.459213,
     "end_time": "2024-10-04T06:19:00.797204",
     "exception": false,
     "start_time": "2024-10-04T06:18:35.337991",
     "status": "completed"
    },
    "tags": []
   },
   "outputs": [],
   "source": [
    "# Import BERT Preprocessor and Encoder\n",
    "preprocessor = hub.KerasLayer(\"https://tfhub.dev/tensorflow/bert_multi_cased_preprocess/3\")\n",
    "encoder = hub.KerasLayer(\"https://tfhub.dev/tensorflow/bert_multi_cased_L-12_H-768_A-12/4\", trainable=True)"
   ]
  },
  {
   "cell_type": "code",
   "execution_count": 3,
   "id": "51de7ecf",
   "metadata": {
    "execution": {
     "iopub.execute_input": "2024-10-04T06:19:00.808694Z",
     "iopub.status.busy": "2024-10-04T06:19:00.807822Z",
     "iopub.status.idle": "2024-10-04T06:19:01.072977Z",
     "shell.execute_reply": "2024-10-04T06:19:01.071869Z"
    },
    "papermill": {
     "duration": 0.274171,
     "end_time": "2024-10-04T06:19:01.076520",
     "exception": false,
     "start_time": "2024-10-04T06:19:00.802349",
     "status": "completed"
    },
    "tags": []
   },
   "outputs": [
    {
     "data": {
      "text/plain": [
       "17562"
      ]
     },
     "execution_count": 3,
     "metadata": {},
     "output_type": "execute_result"
    }
   ],
   "source": [
    "# Import Data\n",
    "data = pd.read_csv('/kaggle/input/anime-recommendation-database-2020/anime.csv')\n",
    "data = data[['MAL_ID','Name', 'Genres', 'Type', 'Episodes']]\n",
    "data.columns = ['ID','Title', 'Genre', 'Type', 'Episodes']\n",
    "len(data)"
   ]
  },
  {
   "cell_type": "code",
   "execution_count": 4,
   "id": "b867a700",
   "metadata": {
    "execution": {
     "iopub.execute_input": "2024-10-04T06:19:01.086317Z",
     "iopub.status.busy": "2024-10-04T06:19:01.085688Z",
     "iopub.status.idle": "2024-10-04T06:19:01.121981Z",
     "shell.execute_reply": "2024-10-04T06:19:01.120592Z"
    },
    "papermill": {
     "duration": 0.04379,
     "end_time": "2024-10-04T06:19:01.124389",
     "exception": false,
     "start_time": "2024-10-04T06:19:01.080599",
     "status": "completed"
    },
    "tags": []
   },
   "outputs": [
    {
     "name": "stdout",
     "output_type": "stream",
     "text": [
      "ID          0\n",
      "Title       0\n",
      "Genre       0\n",
      "Type        0\n",
      "Episodes    0\n",
      "dtype: int64\n",
      "ID          0\n",
      "Title       0\n",
      "Genre       0\n",
      "Type        0\n",
      "Episodes    0\n",
      "dtype: int64\n",
      "17562\n"
     ]
    }
   ],
   "source": [
    "# Data Cleaning\n",
    "# Remove Missing Value Data\n",
    "print(data.isnull().sum())\n",
    "data = data.dropna()\n",
    "print(data.isnull().sum())\n",
    "print(len(data))"
   ]
  },
  {
   "cell_type": "code",
   "execution_count": 5,
   "id": "b4c8077f",
   "metadata": {
    "execution": {
     "iopub.execute_input": "2024-10-04T06:19:01.135085Z",
     "iopub.status.busy": "2024-10-04T06:19:01.134138Z",
     "iopub.status.idle": "2024-10-04T06:19:01.806606Z",
     "shell.execute_reply": "2024-10-04T06:19:01.805472Z"
    },
    "papermill": {
     "duration": 0.680599,
     "end_time": "2024-10-04T06:19:01.809458",
     "exception": false,
     "start_time": "2024-10-04T06:19:01.128859",
     "status": "completed"
    },
    "tags": []
   },
   "outputs": [],
   "source": [
    "# Data Preprocessing\n",
    "def clean(text):\n",
    "    text = str(text).lower()\n",
    "    text = re.sub('\\[.*?\\]', '', text)\n",
    "    text = re.sub('https?://\\S+|www\\.\\S+', '', text)\n",
    "    text = re.sub('<.*?>+', '', text)\n",
    "    text = re.sub('[%s]' % re.escape(string.punctuation), '', text)\n",
    "    text = re.sub('\\n', '', text)\n",
    "    text = re.sub('\\w*\\d\\w*', '', text)\n",
    "    return text\n",
    "\n",
    "data[\"cleaned_Title\"] = data[\"Title\"].apply(clean)\n",
    "data[\"cleaned_Genre\"] = data[\"Genre\"].apply(clean)\n",
    "data[\"cleaned_TitleGenre\"] = data[\"cleaned_Title\"] + \" \" + data[\"cleaned_Genre\"]"
   ]
  },
  {
   "cell_type": "code",
   "execution_count": 6,
   "id": "b25d9a57",
   "metadata": {
    "execution": {
     "iopub.execute_input": "2024-10-04T06:19:01.820030Z",
     "iopub.status.busy": "2024-10-04T06:19:01.819288Z",
     "iopub.status.idle": "2024-10-04T07:06:53.582693Z",
     "shell.execute_reply": "2024-10-04T07:06:53.581570Z"
    },
    "papermill": {
     "duration": 2871.77234,
     "end_time": "2024-10-04T07:06:53.586164",
     "exception": false,
     "start_time": "2024-10-04T06:19:01.813824",
     "status": "completed"
    },
    "tags": []
   },
   "outputs": [],
   "source": [
    "# Data Embedding\n",
    "def get_bert_embeddings(text, preprocessor, encoder):\n",
    "    text_input = tf.keras.layers.Input(shape=(), dtype=tf.string)\n",
    "    encoder_inputs = preprocessor(text_input)\n",
    "    outputs = encoder(encoder_inputs)\n",
    "    embedding_model = tf.keras.Model(text_input, outputs['pooled_output'])\n",
    "    sentences = tf.constant([text])\n",
    "    return embedding_model(sentences)\n",
    "\n",
    "with tf.device('/device:GPU:0'):\n",
    "    data['encodings'] = data['cleaned_TitleGenre'].apply(lambda x: get_bert_embeddings(x, preprocessor, encoder))"
   ]
  },
  {
   "cell_type": "code",
   "execution_count": 7,
   "id": "d9464047",
   "metadata": {
    "execution": {
     "iopub.execute_input": "2024-10-04T07:06:53.597299Z",
     "iopub.status.busy": "2024-10-04T07:06:53.596492Z",
     "iopub.status.idle": "2024-10-04T07:06:53.605846Z",
     "shell.execute_reply": "2024-10-04T07:06:53.604899Z"
    },
    "papermill": {
     "duration": 0.016707,
     "end_time": "2024-10-04T07:06:53.607993",
     "exception": false,
     "start_time": "2024-10-04T07:06:53.591286",
     "status": "completed"
    },
    "tags": []
   },
   "outputs": [],
   "source": [
    "# Generate Recommendation\n",
    "def Anime_Recommendation(ID, title, genre):\n",
    "    cleaned_title = clean(title)\n",
    "    cleaned_genre = clean(genre)\n",
    "    cleaned_TitleGenre = cleaned_title + \" \" + cleaned_genre\n",
    "    query_encoding = get_bert_embeddings(cleaned_TitleGenre, preprocessor, encoder)\n",
    "    print_data = data.copy()\n",
    "    print_data['similarity_score'] = print_data['encodings'].apply(lambda x: cosine_similarity(x, query_encoding)[0][0])\n",
    "    print_data = print_data.sort_values(by=['similarity_score'], ascending=False)\n",
    "    print_data = print_data[print_data[\"ID\"] != ID]\n",
    "    print_data = print_data[['Title', 'similarity_score']][:10].copy()\n",
    "    print_data.columns = ['Title', 'Similarity']\n",
    "    print_data = print_data.set_index([np.arange(1,11)])\n",
    "    print(\"Title:\", title)\n",
    "    print(\"Genre:\", genre)\n",
    "    print(\"Anime Recommendation:\")\n",
    "    print(tabulate(print_data, headers='keys', tablefmt = 'psql'))\n",
    "    del print_data"
   ]
  },
  {
   "cell_type": "code",
   "execution_count": 8,
   "id": "d94aea39",
   "metadata": {
    "execution": {
     "iopub.execute_input": "2024-10-04T07:06:53.617375Z",
     "iopub.status.busy": "2024-10-04T07:06:53.617080Z",
     "iopub.status.idle": "2024-10-04T07:07:00.854602Z",
     "shell.execute_reply": "2024-10-04T07:07:00.853461Z"
    },
    "papermill": {
     "duration": 7.245028,
     "end_time": "2024-10-04T07:07:00.857086",
     "exception": false,
     "start_time": "2024-10-04T07:06:53.612058",
     "status": "completed"
    },
    "tags": []
   },
   "outputs": [
    {
     "name": "stdout",
     "output_type": "stream",
     "text": [
      "Title: Naruto\n",
      "Genre: Action, Adventure, Comedy, Super Power, Martial Arts, Shounen\n",
      "Anime Recommendation:\n",
      "+----+--------------------------------------------+--------------+\n",
      "|    | Title                                      |   Similarity |\n",
      "|----+--------------------------------------------+--------------|\n",
      "|  1 | Naruto x UT                                |     0.99046  |\n",
      "|  2 | Tenjou Tenge                               |     0.986061 |\n",
      "|  3 | Boruto: Jump Festa 2016 Special            |     0.985153 |\n",
      "|  4 | The Last: Naruto the Movie                 |     0.984817 |\n",
      "|  5 | Dragon Ball Z Movie 15: Fukkatsu no \"F\"    |     0.982405 |\n",
      "|  6 | Street Fighter II Movie                    |     0.981987 |\n",
      "|  7 | Dragon Ball Z Movie 14: Kami to Kami       |     0.981082 |\n",
      "|  8 | Grappler Baki                              |     0.978463 |\n",
      "|  9 | Street Fighter Zero The Animation          |     0.977244 |\n",
      "| 10 | Toriko: Jump Super Anime Tour 2009 Special |     0.976173 |\n",
      "+----+--------------------------------------------+--------------+\n"
     ]
    }
   ],
   "source": [
    "def Anime(ID):\n",
    "    anime = data.loc[data[\"ID\"] == ID]\n",
    "    title = anime.Title.item()\n",
    "    genre = anime.Genre.item()\n",
    "    Anime_Recommendation(ID, title, genre)\n",
    "\n",
    "Anime(20)"
   ]
  },
  {
   "cell_type": "code",
   "execution_count": 9,
   "id": "bc81ceae",
   "metadata": {
    "execution": {
     "iopub.execute_input": "2024-10-04T07:07:00.867381Z",
     "iopub.status.busy": "2024-10-04T07:07:00.866613Z",
     "iopub.status.idle": "2024-10-04T07:07:05.224471Z",
     "shell.execute_reply": "2024-10-04T07:07:05.223487Z"
    },
    "papermill": {
     "duration": 4.365594,
     "end_time": "2024-10-04T07:07:05.227041",
     "exception": false,
     "start_time": "2024-10-04T07:07:00.861447",
     "status": "completed"
    },
    "tags": []
   },
   "outputs": [
    {
     "name": "stdout",
     "output_type": "stream",
     "text": [
      "Title: Boruto: Naruto Next Generations\n",
      "Genre: Action, Adventure, Super Power, Martial Arts, Shounen\n",
      "Anime Recommendation:\n",
      "+----+------------------------------------------------------------------+--------------+\n",
      "|    | Title                                                            |   Similarity |\n",
      "|----+------------------------------------------------------------------+--------------|\n",
      "|  1 | Naruto: Shippuuden Movie 6 - Road to Ninja                       |     0.991309 |\n",
      "|  2 | Baoh Raihousha                                                   |     0.988921 |\n",
      "|  3 | Gunjou no Magmell                                                |     0.987854 |\n",
      "|  4 | Yuu☆Yuu☆Hakusho: Meikai Shitou-hen - Honoo no Kizuna             |     0.987785 |\n",
      "|  5 | Naruto: Honoo no Chuunin Shiken! Naruto vs. Konohamaru!!         |     0.987487 |\n",
      "|  6 | Rekka no Honoo                                                   |     0.987453 |\n",
      "|  7 | Tatakae!! Ramenman                                               |     0.986431 |\n",
      "|  8 | Ranma ½: Chou Musabetsu Kessen! Ranma Team vs. Densetsu no Houou |     0.986332 |\n",
      "|  9 | Ranma ½: Akumu! Shunmin Kou                                      |     0.986174 |\n",
      "| 10 | Naruto: Shippuuden Movie 3 - Hi no Ishi wo Tsugu Mono            |     0.986011 |\n",
      "+----+------------------------------------------------------------------+--------------+\n"
     ]
    }
   ],
   "source": [
    "Anime(34566)"
   ]
  },
  {
   "cell_type": "code",
   "execution_count": 10,
   "id": "87348351",
   "metadata": {
    "execution": {
     "iopub.execute_input": "2024-10-04T07:07:05.237604Z",
     "iopub.status.busy": "2024-10-04T07:07:05.236944Z",
     "iopub.status.idle": "2024-10-04T07:07:09.467873Z",
     "shell.execute_reply": "2024-10-04T07:07:09.466857Z"
    },
    "papermill": {
     "duration": 4.238797,
     "end_time": "2024-10-04T07:07:09.470414",
     "exception": false,
     "start_time": "2024-10-04T07:07:05.231617",
     "status": "completed"
    },
    "tags": []
   },
   "outputs": [
    {
     "name": "stdout",
     "output_type": "stream",
     "text": [
      "Title: Dragon Ball Super\n",
      "Genre: Action, Adventure, Comedy, Super Power, Martial Arts, Fantasy, Shounen\n",
      "Anime Recommendation:\n",
      "+----+----------------------------------------+--------------+\n",
      "|    | Title                                  |   Similarity |\n",
      "|----+----------------------------------------+--------------|\n",
      "|  1 | Dragon Ball Kai (2014)                 |     0.993424 |\n",
      "|  2 | Dragon Ball Super Movie: Broly         |     0.992845 |\n",
      "|  3 | Dragon Ball GT                         |     0.992399 |\n",
      "|  4 | Super Dragon Ball Heroes               |     0.99194  |\n",
      "|  5 | Dragon Ball: Episode of Bardock        |     0.991751 |\n",
      "|  6 | Dragon Ball Z: Summer Vacation Special |     0.989389 |\n",
      "|  7 | Dragon Ball Z: Atsumare! Gokuu World   |     0.988997 |\n",
      "|  8 | Dragon Ball                            |     0.988883 |\n",
      "|  9 | Dragon Ball Kai                        |     0.987591 |\n",
      "| 10 | Fairy Tail Movie 2: Dragon Cry         |     0.987343 |\n",
      "+----+----------------------------------------+--------------+\n"
     ]
    }
   ],
   "source": [
    "Anime(30694)"
   ]
  },
  {
   "cell_type": "markdown",
   "id": "b60e7071",
   "metadata": {
    "papermill": {
     "duration": 0.004304,
     "end_time": "2024-10-04T07:07:09.479524",
     "exception": false,
     "start_time": "2024-10-04T07:07:09.475220",
     "status": "completed"
    },
    "tags": []
   },
   "source": [
    "If you found our implementation useful, please consider citing our paper:\n",
    "\n",
    "C. G. Reswara, J. Nicolas, M. Ananta and F. I. Kurniadi, \"Anime Recommendation System Using Bert and Cosine Similarity,\" 2023 4th International Conference on Artificial Intelligence and Data Sciences (AiDAS), IPOH, Malaysia, 2023, pp. 109-113, doi: [10.1109/AiDAS60501.2023.10284693](https://doi.org/10.1109/AiDAS60501.2023.10284693)."
   ]
  }
 ],
 "metadata": {
  "kaggle": {
   "accelerator": "gpu",
   "dataSources": [
    {
     "datasetId": 1225408,
     "sourceId": 2422513,
     "sourceType": "datasetVersion"
    }
   ],
   "dockerImageVersionId": 30408,
   "isGpuEnabled": true,
   "isInternetEnabled": true,
   "language": "python",
   "sourceType": "notebook"
  },
  "kernelspec": {
   "display_name": "Python 3",
   "language": "python",
   "name": "python3"
  },
  "language_info": {
   "codemirror_mode": {
    "name": "ipython",
    "version": 3
   },
   "file_extension": ".py",
   "mimetype": "text/x-python",
   "name": "python",
   "nbconvert_exporter": "python",
   "pygments_lexer": "ipython3",
   "version": "3.7.12"
  },
  "papermill": {
   "default_parameters": {},
   "duration": 2936.215964,
   "end_time": "2024-10-04T07:07:12.515915",
   "environment_variables": {},
   "exception": null,
   "input_path": "__notebook__.ipynb",
   "output_path": "__notebook__.ipynb",
   "parameters": {},
   "start_time": "2024-10-04T06:18:16.299951",
   "version": "2.4.0"
  }
 },
 "nbformat": 4,
 "nbformat_minor": 5
}
